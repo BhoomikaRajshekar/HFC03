{
 "cells": [
  {
   "cell_type": "markdown",
   "id": "037774d6",
   "metadata": {},
   "source": [
    "# Random Forest"
   ]
  },
  {
   "cell_type": "code",
   "execution_count": 3,
   "id": "7048671a",
   "metadata": {},
   "outputs": [
    {
     "name": "stdout",
     "output_type": "stream",
     "text": [
      "              precision    recall  f1-score   support\n",
      "\n",
      "           0       1.00      1.00      1.00      4167\n",
      "           1       1.00      1.00      1.00      8749\n",
      "\n",
      "    accuracy                           1.00     12916\n",
      "   macro avg       1.00      1.00      1.00     12916\n",
      "weighted avg       1.00      1.00      1.00     12916\n",
      "\n",
      "Accuracy: 0.9999225766491173\n"
     ]
    },
    {
     "data": {
      "text/plain": [
       "['ddos_model_random.pkl']"
      ]
     },
     "execution_count": 3,
     "metadata": {},
     "output_type": "execute_result"
    }
   ],
   "source": [
    "import pandas as pd\n",
    "from sklearn.model_selection import train_test_split\n",
    "from sklearn.ensemble import RandomForestClassifier\n",
    "from sklearn.metrics import accuracy_score\n",
    "import joblib\n",
    "\n",
    "data = pd.read_csv(\"C:\\\\Users\\\\racha\\\\OneDrive\\\\Desktop\\\\ddos_data.csv\")\n",
    "\n",
    "data['Time'] = data['Time'].apply(lambda x: x.split(':'))\n",
    "data['hour'] = data['Time'].apply(lambda x: int(x[0]))\n",
    "data['minute_int'] = data['Time'].apply(lambda x: int(x[1].split('.')[0]))\n",
    "data['minute_dec'] = data['Time'].apply(lambda x: int(x[1].split('.')[1]))\n",
    "\n",
    "data['second'] = data['Time'].apply(lambda x: \n",
    "                                     float(x[2]) if len(x) >= 3 else 0.0)\n",
    "\n",
    "data.drop('Time', axis=1, inplace=True)\n",
    "\n",
    "X = data[['hour', 'minute_int', 'minute_dec', 'second', 'Source', 'Destination', 'Protocol', 'Length', 'Src port', 'Dest port']]\n",
    "y = data['Target']\n",
    "\n",
    "X_encoded = pd.get_dummies(X, columns=['Source', 'Destination','Protocol'])\n",
    "\n",
    "X_train_encoded, X_test_encoded, y_train, y_test = train_test_split(X_encoded, y, test_size=0.2, random_state=42)\n",
    "\n",
    "model = RandomForestClassifier()\n",
    "model.fit(X_train_encoded, y_train)\n",
    "\n",
    "y_pred = model.predict(X_test_encoded)\n",
    "print(classification_report(y_test, y_pred))\n",
    "\n",
    "\n",
    "accuracy = accuracy_score(y_test, y_pred)\n",
    "print(\"Accuracy:\", accuracy)\n",
    "\n",
    "joblib.dump(model, 'ddos_model_random.pkl')\n"
   ]
  },
  {
   "cell_type": "markdown",
   "id": "173c0514",
   "metadata": {},
   "source": [
    "# Logistic Regression"
   ]
  },
  {
   "cell_type": "code",
   "execution_count": 2,
   "id": "d90501b2",
   "metadata": {},
   "outputs": [
    {
     "name": "stdout",
     "output_type": "stream",
     "text": [
      "              precision    recall  f1-score   support\n",
      "\n",
      "           0       1.00      0.78      0.88      4167\n",
      "           1       0.91      1.00      0.95      8749\n",
      "\n",
      "    accuracy                           0.93     12916\n",
      "   macro avg       0.95      0.89      0.92     12916\n",
      "weighted avg       0.94      0.93      0.93     12916\n",
      "\n",
      "Accuracy: 0.9306286776091669\n"
     ]
    }
   ],
   "source": [
    "import pandas as pd\n",
    "from sklearn.model_selection import train_test_split\n",
    "from sklearn.linear_model import LogisticRegression\n",
    "from sklearn.metrics import classification_report\n",
    "from sklearn.preprocessing import StandardScaler\n",
    "from sklearn.metrics import accuracy_score\n",
    "\n",
    "data = pd.read_csv(\"C:\\\\Users\\\\racha\\\\OneDrive\\\\Desktop\\\\ddos_data.csv\")\n",
    "\n",
    "X = data.drop(['Target', 'Time', 'Source', 'Destination', 'Protocol'], axis=1)\n",
    "X = X.select_dtypes(include=['float64', 'int64'])\n",
    "y = data['Target']\n",
    "\n",
    "X_train, X_test, y_train, y_test = train_test_split(X, y, test_size=0.2, random_state=42)\n",
    "\n",
    "scaler = StandardScaler()\n",
    "X_train_scaled = scaler.fit_transform(X_train)\n",
    "X_test_scaled = scaler.transform(X_test)\n",
    "\n",
    "model = LogisticRegression()\n",
    "model.fit(X_train_scaled, y_train)\n",
    "\n",
    "predictions = model.predict(X_test_scaled)\n",
    "print(classification_report(y_test, predictions))\n",
    "\n",
    "accuracy = accuracy_score(y_test, predictions)\n",
    "print(\"Accuracy:\", accuracy)"
   ]
  },
  {
   "cell_type": "markdown",
   "id": "d91c7cf7",
   "metadata": {},
   "source": [
    "# Capturing Live traffic"
   ]
  },
  {
   "cell_type": "code",
   "execution_count": null,
   "id": "fe532360",
   "metadata": {},
   "outputs": [],
   "source": []
  }
 ],
 "metadata": {
  "kernelspec": {
   "display_name": "Python 3 (ipykernel)",
   "language": "python",
   "name": "python3"
  },
  "language_info": {
   "codemirror_mode": {
    "name": "ipython",
    "version": 3
   },
   "file_extension": ".py",
   "mimetype": "text/x-python",
   "name": "python",
   "nbconvert_exporter": "python",
   "pygments_lexer": "ipython3",
   "version": "3.11.3"
  }
 },
 "nbformat": 4,
 "nbformat_minor": 5
}
