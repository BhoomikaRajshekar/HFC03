{
 "cells": [
  {
   "cell_type": "markdown",
   "id": "173c0514",
   "metadata": {},
   "source": [
    "# Logistic Regression"
   ]
  },
  {
   "cell_type": "code",
   "execution_count": 10,
   "id": "d90501b2",
   "metadata": {},
   "outputs": [
    {
     "name": "stdout",
     "output_type": "stream",
     "text": [
      "              precision    recall  f1-score   support\n",
      "\n",
      "           0       1.00      0.68      0.81      2263\n",
      "           1       0.77      1.00      0.87      2332\n",
      "\n",
      "    accuracy                           0.84      4595\n",
      "   macro avg       0.88      0.84      0.84      4595\n",
      "weighted avg       0.88      0.84      0.84      4595\n",
      "\n",
      "Accuracy: 0.8443960826985855\n"
     ]
    },
    {
     "data": {
      "text/plain": [
       "['ddos_model.pkl']"
      ]
     },
     "execution_count": 10,
     "metadata": {},
     "output_type": "execute_result"
    }
   ],
   "source": [
    "import pandas as pd\n",
    "from sklearn.model_selection import train_test_split\n",
    "from sklearn.linear_model import LogisticRegression\n",
    "from sklearn.metrics import classification_report\n",
    "from sklearn.preprocessing import StandardScaler\n",
    "from sklearn.metrics import accuracy_score\n",
    "import joblib\n",
    "\n",
    "data = pd.read_csv(\"C:\\\\Users\\\\racha\\\\OneDrive\\\\Desktop\\\\training_data.csv\")\n",
    "\n",
    "X = data.drop(['Target', 'Time', 'Source', 'Destination', 'Protocol'], axis=1)\n",
    "X = X.select_dtypes(include=['float64', 'int64'])\n",
    "y = data['Target']\n",
    "\n",
    "X_train, X_test, y_train, y_test = train_test_split(X, y, test_size=0.2, random_state=42)\n",
    "\n",
    "scaler = StandardScaler()\n",
    "X_train_scaled = scaler.fit_transform(X_train)\n",
    "X_test_scaled = scaler.transform(X_test)\n",
    "\n",
    "model = LogisticRegression()\n",
    "model.fit(X_train_scaled, y_train)\n",
    "\n",
    "predictions = model.predict(X_test_scaled)\n",
    "print(classification_report(y_test, predictions))\n",
    "\n",
    "accuracy = accuracy_score(y_test, predictions)\n",
    "print(\"Accuracy:\", accuracy)\n",
    "\n",
    "joblib.dump(model, 'ddos_model.pkl')"
   ]
  },
  {
   "cell_type": "code",
   "execution_count": 1,
   "id": "fe532360",
   "metadata": {},
   "outputs": [
    {
     "name": "stdout",
     "output_type": "stream",
     "text": [
      "              precision    recall  f1-score   support\n",
      "\n",
      "           0       1.00      0.68      0.81      2263\n",
      "           1       0.77      1.00      0.87      2332\n",
      "\n",
      "    accuracy                           0.84      4595\n",
      "   macro avg       0.88      0.84      0.84      4595\n",
      "weighted avg       0.88      0.84      0.84      4595\n",
      "\n",
      "Accuracy: 0.8443960826985855\n"
     ]
    },
    {
     "data": {
      "text/plain": [
       "['ddos_model1.pkl']"
      ]
     },
     "execution_count": 1,
     "metadata": {},
     "output_type": "execute_result"
    }
   ],
   "source": [
    "import pandas as pd\n",
    "from sklearn.model_selection import train_test_split\n",
    "from sklearn.linear_model import LogisticRegression\n",
    "from sklearn.metrics import classification_report\n",
    "from sklearn.preprocessing import StandardScaler\n",
    "from sklearn.metrics import accuracy_score\n",
    "import joblib\n",
    "\n",
    "data = pd.read_csv(\"C:\\\\Users\\\\racha\\\\OneDrive\\\\Desktop\\\\training_data.csv\")\n",
    "\n",
    "X = data.drop(['Target', 'Time', 'Source', 'Destination', 'Protocol'], axis=1)\n",
    "X = X.select_dtypes(include=['float64', 'int64'])\n",
    "y = data['Target']\n",
    "\n",
    "X_train, X_test, y_train, y_test = train_test_split(X, y, test_size=0.2, random_state=42)\n",
    "\n",
    "scaler = StandardScaler()\n",
    "X_train_scaled = scaler.fit_transform(X_train)\n",
    "X_test_scaled = scaler.transform(X_test)\n",
    "\n",
    "# Save the scaler object\n",
    "joblib.dump(scaler, 'scaler.pkl')\n",
    "\n",
    "model = LogisticRegression()\n",
    "model.fit(X_train_scaled, y_train)\n",
    "\n",
    "predictions = model.predict(X_test_scaled)\n",
    "print(classification_report(y_test, predictions))\n",
    "\n",
    "accuracy = accuracy_score(y_test, predictions)\n",
    "print(\"Accuracy:\", accuracy)\n",
    "\n",
    "joblib.dump(model, 'ddos_model1.pkl')\n"
   ]
  },
  {
   "cell_type": "code",
   "execution_count": 3,
   "id": "e8e42fc6",
   "metadata": {},
   "outputs": [
    {
     "name": "stdout",
     "output_type": "stream",
     "text": [
      "Source IP: 192.168.28.46, Destination IP: 13.89.178.26, Packet Length: 55\n",
      "Source IP: 192.168.28.46, Destination IP: 35.174.127.31, Packet Length: 300\n",
      "Source IP: 192.168.28.46, Destination IP: 35.174.127.31, Packet Length: 300\n",
      "Source IP: 192.168.28.34, Destination IP: 239.255.255.250, Packet Length: 218\n",
      "Source IP: 35.174.127.31, Destination IP: 192.168.28.46, Packet Length: 54\n",
      "Source IP: 35.174.127.31, Destination IP: 192.168.28.46, Packet Length: 321\n",
      "Source IP: 35.174.127.31, Destination IP: 192.168.28.46, Packet Length: 66\n",
      "Source IP: 192.168.28.46, Destination IP: 35.174.127.31, Packet Length: 54\n",
      "Source IP: 192.168.28.34, Destination IP: 239.255.255.250, Packet Length: 218\n",
      "Source IP: 192.168.28.34, Destination IP: 239.255.255.250, Packet Length: 218\n"
     ]
    },
    {
     "data": {
      "text/plain": [
       "<Sniffed: TCP:7 UDP:3 ICMP:0 Other:0>"
      ]
     },
     "execution_count": 3,
     "metadata": {},
     "output_type": "execute_result"
    }
   ],
   "source": [
    "from scapy.all import sniff, IP\n",
    "\n",
    "def extract_features(packet):\n",
    "    if IP in packet:\n",
    "        src_ip = packet[IP].src\n",
    "        dst_ip = packet[IP].dst\n",
    "        packet_len = len(packet)\n",
    "        return src_ip, dst_ip, packet_len\n",
    "    return None\n",
    "\n",
    "def process_packet(packet):\n",
    "    features = extract_features(packet)\n",
    "    if features:\n",
    "        src_ip, dst_ip, packet_len = features\n",
    "        print(f\"Source IP: {src_ip}, Destination IP: {dst_ip}, Packet Length: {packet_len}\")\n",
    "\n",
    "sniff(prn=process_packet, count=10)\n"
   ]
  },
  {
   "cell_type": "code",
   "execution_count": null,
   "id": "9c5a76f9",
   "metadata": {},
   "outputs": [],
   "source": [
    "from scapy.all import sniff\n",
    "from scapy.layers.inet import IP, TCP, UDP\n",
    "from datetime import datetime\n",
    "\n",
    "def extract_packet_info(packet):\n",
    "    if IP in packet and TCP in packet:\n",
    "        src_ip = packet[IP].src\n",
    "        dst_ip = packet[IP].dst\n",
    "        src_port = packet[TCP].sport\n",
    "        dst_port = packet[TCP].dport\n",
    "        protocol = 'tcp'\n",
    "        packet_len = len(packet)\n",
    "        timestamp = datetime.now().strftime(\"%H:%M.%S\")\n",
    "        return src_ip, dst_ip, src_port, dst_port, packet_len, protocol, timestamp\n",
    "    return None, None, None, None, None, None, None\n",
    "\n",
    "def packet_callback(packet):\n",
    "    src_ip, dst_ip, src_port, dst_port, packet_len, protocol,timestamp = extract_packet_info(packet)\n",
    "    if src_ip:\n",
    "        #print(f\"Source IP: {src_ip}, Destination IP: {dst_ip}, Source Port: {src_port}, Destination Port: {dst_port}, Packet Length: {packet_len}, Protocol: {protocol}\")\n",
    "        with open('captured_traffic.csv', 'a') as file:\n",
    "            file.write(f\"{timestamp},{src_ip},{dst_ip},{protocol},{packet_len},{src_port},{dst_port}\\n\")\n",
    "\n",
    "with open('captured_traffic_scapy.csv', 'w') as file:\n",
    "    file.write(\"Time,Source,Destination,Protocol,Length,Src port,Dest port\\n\")\n",
    "\n",
    "start_time = time.time()\n",
    "while time.time() - start_time < 50:\n",
    "    sniff(prn=packet_callback, count=10000)\n"
   ]
  },
  {
   "cell_type": "markdown",
   "id": "0f6b9d4b",
   "metadata": {},
   "source": [
    "# Testing with live data csv"
   ]
  },
  {
   "cell_type": "code",
   "execution_count": null,
   "id": "0233688c",
   "metadata": {},
   "outputs": [],
   "source": [
    "import pandas as pd\n",
    "import joblib\n",
    "data = pd.read_csv(\"captured_traffic0.csv\")\n",
    "X = data.drop(['Time', 'Source', 'Destination', 'Protocol'], axis=1)\n",
    "X = X.select_dtypes(include=['float64', 'int64'])\n",
    "model = joblib.load('ddos_model.pkl')\n",
    "predictions = model.predict(X)\n",
    "predictions = model.predict(X)\n",
    "data['prediction'] = predictions\n",
    "data.to_csv('captured_traffic_with_predictions.csv', index=False)"
   ]
  }
 ],
 "metadata": {
  "kernelspec": {
   "display_name": "Python 3 (ipykernel)",
   "language": "python",
   "name": "python3"
  },
  "language_info": {
   "codemirror_mode": {
    "name": "ipython",
    "version": 3
   },
   "file_extension": ".py",
   "mimetype": "text/x-python",
   "name": "python",
   "nbconvert_exporter": "python",
   "pygments_lexer": "ipython3",
   "version": "3.11.3"
  }
 },
 "nbformat": 4,
 "nbformat_minor": 5
}
